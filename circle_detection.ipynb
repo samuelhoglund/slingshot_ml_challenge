{
  "cells": [
    {
      "cell_type": "markdown",
      "metadata": {
        "id": "36qX8Jh0VBRL"
      },
      "source": [
        "## Provided circle generator code"
      ]
    },
    {
      "cell_type": "code",
      "execution_count": null,
      "metadata": {
        "id": "LmTu6tsYU7yg"
      },
      "outputs": [],
      "source": [
        "from typing import NamedTuple, Optional, Tuple, Generator\n",
        "\n",
        "import numpy as np\n",
        "from matplotlib import pyplot as plt\n",
        "from skimage.draw import circle_perimeter_aa\n",
        "\n",
        "\n",
        "class CircleParams(NamedTuple):\n",
        "    row: int\n",
        "    col: int\n",
        "    radius: int\n",
        "\n",
        "\n",
        "def draw_circle(img: np.ndarray, row: int, col: int, radius: int) -> np.ndarray:\n",
        "    \"\"\"\n",
        "    Draw a circle in a numpy array, inplace.\n",
        "    The center of the circle is at (row, col) and the radius is given by radius.\n",
        "    The array is assumed to be square.\n",
        "    Any pixels outside the array are ignored.\n",
        "    Circle is white (1) on black (0) background, and is anti-aliased.\n",
        "    \"\"\"\n",
        "    rr, cc, val = circle_perimeter_aa(row, col, radius)\n",
        "    valid = (rr >= 0) & (rr < img.shape[0]) & (cc >= 0) & (cc < img.shape[1])\n",
        "    img[rr[valid], cc[valid]] = val[valid]\n",
        "    return img\n",
        "\n",
        "\n",
        "def noisy_circle(\n",
        "        img_size: int, min_radius: float, max_radius: float, noise_level: float\n",
        ") -> Tuple[np.ndarray, CircleParams]:\n",
        "    \"\"\"\n",
        "    Draw a circle in a numpy array, with normal noise.\n",
        "    \"\"\"\n",
        "\n",
        "    # Create an empty image\n",
        "    img = np.zeros((img_size, img_size))\n",
        "\n",
        "    radius = np.random.randint(min_radius, max_radius)\n",
        "\n",
        "    # x,y coordinates of the center of the circle\n",
        "    row, col = np.random.randint(img_size, size=2)\n",
        "\n",
        "    # Draw the circle inplace\n",
        "    draw_circle(img, row, col, radius)\n",
        "\n",
        "    added_noise = np.random.normal(0.5, noise_level, img.shape)\n",
        "    img += added_noise\n",
        "\n",
        "    return img, CircleParams(row, col, radius)\n",
        "\n",
        "\n",
        "def show_circle(img: np.ndarray):\n",
        "    fig, ax = plt.subplots()\n",
        "    ax.imshow(img, cmap='gray')\n",
        "    ax.set_title('Circle')\n",
        "    plt.show()\n",
        "\n",
        "\n",
        "def generate_examples(\n",
        "        noise_level: float = 0.5,\n",
        "        img_size: int = 100,\n",
        "        min_radius: Optional[int] = None,\n",
        "        max_radius: Optional[int] = None,\n",
        "        dataset_path: str = 'ds',\n",
        ") -> Generator[Tuple[np.ndarray, CircleParams], None, None]:\n",
        "    if not min_radius:\n",
        "        min_radius = img_size // 10\n",
        "    if not max_radius:\n",
        "        max_radius = img_size // 2\n",
        "    assert max_radius > min_radius, \"max_radius must be greater than min_radius\"\n",
        "    assert img_size > max_radius, \"size should be greater than max_radius\"\n",
        "    assert noise_level >= 0, \"noise should be non-negative\"\n",
        "\n",
        "    params = f\"{noise_level=}, {img_size=}, {min_radius=}, {max_radius=}, {dataset_path=}\"\n",
        "    print(f\"Using parameters: {params}\")\n",
        "    while True:\n",
        "        img, params = noisy_circle(\n",
        "            img_size=img_size, min_radius=min_radius, max_radius=max_radius, noise_level=noise_level\n",
        "        )\n",
        "        yield img, params\n",
        "\n",
        "\n",
        "def iou(a: CircleParams, b: CircleParams) -> float:\n",
        "    \"\"\"Calculate the intersection over union of two circles\"\"\"\n",
        "    r1, r2 = a.radius, b.radius\n",
        "    d = np.linalg.norm(np.array([a.row, a.col]) - np.array([b.row, b.col]))\n",
        "    if d > r1 + r2:\n",
        "        # If the distance between the centers is greater than the sum of the radii, then the circles don't intersect\n",
        "        return 0.0\n",
        "    if d <= abs(r1 - r2):\n",
        "        # If the distance between the centers is less than the absolute difference of the radii, then one circle is\n",
        "        # inside the other\n",
        "        larger_r, smaller_r = max(r1, r2), min(r1, r2)\n",
        "        return smaller_r ** 2 / larger_r ** 2\n",
        "    r1_sq, r2_sq = r1**2, r2**2\n",
        "    d1 = (r1_sq - r2_sq + d**2) / (2 * d)\n",
        "    d2 = d - d1\n",
        "    sector_area1 = r1_sq * np.arccos(d1 / r1)\n",
        "    triangle_area1 = d1 * np.sqrt(r1_sq - d1**2)\n",
        "    sector_area2 = r2_sq * np.arccos(d2 / r2)\n",
        "    triangle_area2 = d2 * np.sqrt(r2_sq - d2**2)\n",
        "    intersection = sector_area1 + sector_area2 - (triangle_area1 + triangle_area2)\n",
        "    union = np.pi * (r1_sq + r2_sq) - intersection\n",
        "    return intersection / union\n",
        "\n",
        "\n",
        "if __name__ == '__main__':\n",
        "    img, params = noisy_circle(100, 10, 20, 0.2)\n",
        "    show_circle(img)\n",
        "    print(params)\n",
        "    print(iou(params, CircleParams(50, 50, 10)))"
      ]
    },
    {
      "cell_type": "markdown",
      "source": [
        "## Define circle hyperparameters"
      ],
      "metadata": {
        "id": "1EHIV1ZT4xMI"
      }
    },
    {
      "cell_type": "code",
      "source": [
        "IMG_SIZE = 100 # Default is 100\n",
        "NOISE_LEVEL = 0.5 # Default is 0.5\n",
        "MIN_RAD = IMG_SIZE // 10\n",
        "MAX_RAD = IMG_SIZE // 2"
      ],
      "metadata": {
        "id": "ubUpB3BM40Ho"
      },
      "execution_count": 3,
      "outputs": []
    },
    {
      "cell_type": "markdown",
      "metadata": {
        "id": "Dl9iYXt6VVqW"
      },
      "source": [
        "## Define CNN using PyTorch"
      ]
    },
    {
      "cell_type": "code",
      "execution_count": null,
      "metadata": {
        "id": "o4XpnDyCXDwM"
      },
      "outputs": [],
      "source": [
        "import torch\n",
        "\n",
        "print(torch.__version__)"
      ]
    },
    {
      "cell_type": "code",
      "source": [
        "import torch\n",
        "import torch.nn as nn\n",
        "import torch.nn.functional as F\n",
        "\n",
        "\n",
        "class CircleNet(nn.Module):\n",
        "    def __init__(self):\n",
        "        super().__init__()\n",
        "        self.conv1 = nn.Sequential(\n",
        "            nn.Conv2d(1, 32, 5), nn.BatchNorm2d(32), nn.ReLU(), nn.MaxPool2d(2, 2)\n",
        "        )   # 1 input channel, since it's greyscale\n",
        "        self.conv2 = nn.Sequential(\n",
        "            nn.Conv2d(32, 64, 3), nn.BatchNorm2d(64), nn.ReLU(), nn.MaxPool2d(2, 2)\n",
        "        )\n",
        "        self.conv3 = nn.Sequential(\n",
        "            nn.Conv2d(64, 128, 3), nn.BatchNorm2d(128), nn.ReLU(), nn.MaxPool2d(2, 2)\n",
        "        )\n",
        "        self.conv4 = nn.Sequential(\n",
        "            nn.Conv2d(128, 256, 3), nn.BatchNorm2d(256), nn.ReLU()\n",
        "        )\n",
        "        self.conv5 = nn.Sequential(\n",
        "            nn.Conv2d(256, 512, 1), nn.BatchNorm2d(512), nn.ReLU()\n",
        "        )\n",
        "\n",
        "        # Calculate the output size after the last convolutional layer\n",
        "        self.fc_input_size = self._calculate_conv_output_size((1, IMG_SIZE, IMG_SIZE))\n",
        "\n",
        "        self.fc1 = nn.Linear(self.fc_input_size, 256)  # Adjusted input size\n",
        "        self.fc2 = nn.Linear(256, 32)\n",
        "        self.fc3 = nn.Linear(32, 3)   # 3 output units for (x, y, radius)\n",
        "\n",
        "    def _calculate_conv_output_size(self, input_size):\n",
        "        with torch.no_grad():\n",
        "            input_tensor = torch.ones(1, *input_size)\n",
        "            output_tensor = self._forward_conv(input_tensor)\n",
        "            # Return flattened to correspond to fc layer input\n",
        "            return output_tensor.view(1, -1).size(1)\n",
        "\n",
        "    def _forward_conv(self, x):\n",
        "        x = self.conv1(x)\n",
        "        x = self.conv2(x)\n",
        "        x = self.conv3(x)\n",
        "        x = self.conv4(x)\n",
        "        x = self.conv5(x)\n",
        "        return x\n",
        "\n",
        "    def forward(self, x):\n",
        "        x = self._forward_conv(x)\n",
        "        x = x.view(x.size(0), -1)  # Flatten the tensor\n",
        "        x = F.relu(self.fc1(x))  # Apply ReLU activation\n",
        "        x = F.relu(self.fc2(x))\n",
        "        x = self.fc3(x)  # Output (x, y, radius) predictions\n",
        "        return x\n",
        "\n",
        "\n",
        "model = CircleNet()\n",
        "\n",
        "# Calculate the number of parameters\n",
        "total_params = sum(p.numel() for p in model.parameters())\n",
        "print(\"Total number of parameters:\", total_params)\n"
      ],
      "metadata": {
        "id": "1dwYTtXwhY_8"
      },
      "execution_count": null,
      "outputs": []
    },
    {
      "cell_type": "markdown",
      "metadata": {
        "id": "7wwdMF5UXO_s"
      },
      "source": [
        "## Define dataset"
      ]
    },
    {
      "cell_type": "code",
      "execution_count": 6,
      "metadata": {
        "id": "YKl7esM9bS_D"
      },
      "outputs": [],
      "source": [
        "from torch.utils.data import Dataset\n",
        "import random\n",
        "\n",
        "\n",
        "class CircleDataset(Dataset):\n",
        "    def __init__(\n",
        "        self,\n",
        "        num_samples,\n",
        "        noise_level=NOISE_LEVEL,\n",
        "        img_size=IMG_SIZE,\n",
        "        min_radius=None,\n",
        "        max_radius=None,\n",
        "    ):\n",
        "        self.num_samples = num_samples\n",
        "        if noise_level == -1:\n",
        "            noise_level = random.uniform(\n",
        "                0, 0.7\n",
        "            )  # Randomly choose noise level between 0 and 0.7\n",
        "        self.generator = generate_examples(\n",
        "            noise_level=noise_level,\n",
        "            img_size=img_size,\n",
        "            min_radius=min_radius,\n",
        "            max_radius=max_radius,\n",
        "        )\n",
        "\n",
        "    def __len__(self):\n",
        "        return self.num_samples\n",
        "\n",
        "    def __getitem__(self, idx):\n",
        "        img, params = next(self.generator)\n",
        "        # Preprocess image\n",
        "        img = torch.Tensor(img).unsqueeze(0)  # Since input channels = 1\n",
        "        # We want to predict the circle params\n",
        "        label = torch.Tensor(params)\n",
        "        return img, label\n"
      ]
    },
    {
      "cell_type": "markdown",
      "metadata": {
        "id": "ZKsKuLl9X1Hf"
      },
      "source": [
        "## Train model"
      ]
    },
    {
      "cell_type": "code",
      "execution_count": null,
      "metadata": {
        "id": "kiWXw54TX205"
      },
      "outputs": [],
      "source": [
        "import torch.optim as optim\n",
        "from torch.utils.data import DataLoader\n",
        "\n",
        "# Define hyperparameters\n",
        "num_epochs = 10\n",
        "batch_size = 32\n",
        "num_samples = 120000  # Number of samples in the dataset\n",
        "\n",
        "# Create dataset and DataLoader\n",
        "dataset = CircleDataset(num_samples=num_samples, noise_level=NOISE_LEVEL)\n",
        "dataloader = DataLoader(dataset, batch_size=batch_size, shuffle=True)\n",
        "\n",
        "# Use GPU\n",
        "device = torch.device(\"cuda:0\" if torch.cuda.is_available() else \"cpu\")\n",
        "model = nn.DataParallel(model)\n",
        "model.to(device)\n",
        "\n",
        "# Define loss function and optimizer\n",
        "criterion = nn.MSELoss()\n",
        "optimizer = optim.Adam(model.parameters(), lr=0.001)\n",
        "\n",
        "# Training loop\n",
        "for epoch in range(num_epochs):\n",
        "    running_loss = 0.0\n",
        "\n",
        "    for i, (inputs, labels) in enumerate(dataloader):\n",
        "        inputs = inputs.to(device)\n",
        "        labels = labels.to(device)\n",
        "\n",
        "        # Zero the parameter gradients\n",
        "        optimizer.zero_grad()\n",
        "\n",
        "        # Forward pass\n",
        "        outputs = model(inputs)\n",
        "\n",
        "        # Compute the loss\n",
        "        loss = criterion(outputs, labels)\n",
        "\n",
        "        # Backward pass and optimize\n",
        "        loss.backward()\n",
        "        optimizer.step()\n",
        "\n",
        "        running_loss += loss.item()\n",
        "        if i % 200 == 0:  # Print every 200 mini-batches\n",
        "            print(f\"[{epoch + 1}, {i + 1}] loss: {running_loss / 200}\")\n",
        "            running_loss = 0.0\n",
        "\n",
        "print(\"Finished Training\")\n"
      ]
    },
    {
      "cell_type": "markdown",
      "source": [
        "## Save model"
      ],
      "metadata": {
        "id": "VVeHhgxOvd3Z"
      }
    },
    {
      "cell_type": "code",
      "source": [
        "from google.colab import drive\n",
        "\n",
        "# Mount Google Drive\n",
        "drive.mount(\"/content/drive\")\n",
        "\n",
        "# Define path to save model\n",
        "model_save_path = \"/content/drive/My Drive/circle_challenge/circle_model.pth\"\n",
        "\n",
        "\n",
        "# Save model weights\n",
        "torch.save(model.state_dict(), model_save_path)"
      ],
      "metadata": {
        "colab": {
          "base_uri": "https://localhost:8080/"
        },
        "id": "unjFZS9zvfGh",
        "outputId": "fe1ee48c-cc08-4c11-c640-2af8380336f2"
      },
      "execution_count": 17,
      "outputs": [
        {
          "output_type": "stream",
          "name": "stdout",
          "text": [
            "Mounted at /content/drive\n"
          ]
        }
      ]
    },
    {
      "cell_type": "markdown",
      "metadata": {
        "id": "N8vzUwhFuzgl"
      },
      "source": [
        "## Evaluate model"
      ]
    },
    {
      "cell_type": "code",
      "execution_count": null,
      "metadata": {
        "id": "PxqhoZGru2cY"
      },
      "outputs": [],
      "source": [
        "# List of different amounts of noise\n",
        "noise_levels = [0, 0.1, 0.2, 0.3, 0.4, 0.5, 0.6, 0.7, 0.8, 0.9, 1]\n",
        "\n",
        "# Evaluate model for each noise level\n",
        "avg_iou_per_noise = {}\n",
        "for noise_level in noise_levels:\n",
        "    # Generate test dataset with the current noise level\n",
        "    num_test_samples = 100\n",
        "    test_dataset = [\n",
        "        noisy_circle(IMG_SIZE, MIN_RAD, MAX_RAD, noise_level)\n",
        "        for _ in range(num_test_samples)\n",
        "    ]\n",
        "\n",
        "    # Evaluate model\n",
        "    model.eval()  # Set model to evaluation mode\n",
        "    iou_scores = []\n",
        "    for img, params_gt in test_dataset:\n",
        "        # Convert image to tensor and add batch dimension\n",
        "        img_tensor = torch.tensor(img, dtype=torch.float32).unsqueeze(0).unsqueeze(0)\n",
        "\n",
        "        # Predict circle parameters\n",
        "        with torch.no_grad():\n",
        "            params_pred = model(img_tensor)\n",
        "\n",
        "        # Convert predicted parameters to CircleParams format\n",
        "        params_pred = CircleParams(*params_pred.squeeze().tolist())\n",
        "\n",
        "        # Calculate IoU\n",
        "        iou_score = iou(params_gt, params_pred)\n",
        "        iou_scores.append(iou_score)\n",
        "\n",
        "    # Calculate average IoU for the current noise level\n",
        "    avg_iou = sum(iou_scores) / len(iou_scores)\n",
        "    avg_iou_per_noise[noise_level] = avg_iou\n",
        "\n",
        "# Print average IoU for each noise level\n",
        "for noise_level, avg_iou in avg_iou_per_noise.items():\n",
        "    print(f\"Average IoU for noise level {noise_level}: {avg_iou}\")\n"
      ]
    }
  ],
  "metadata": {
    "accelerator": "GPU",
    "colab": {
      "gpuType": "T4",
      "provenance": []
    },
    "kernelspec": {
      "display_name": "Python 3",
      "name": "python3"
    },
    "language_info": {
      "name": "python"
    }
  },
  "nbformat": 4,
  "nbformat_minor": 0
}